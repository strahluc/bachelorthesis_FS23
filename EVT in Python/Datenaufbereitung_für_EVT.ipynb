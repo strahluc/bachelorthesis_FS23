{
 "cells": [
  {
   "cell_type": "markdown",
   "id": "366f5104",
   "metadata": {},
   "source": [
    "## Datenalyse: 04 Datenaufbereitung für EVT\n",
    "\n",
    "Das Ziel ist es, die Wahrscheinlichkeit einer X45 Sonneneruption zu berechnen.\n",
    "\n",
    "X45: 0.0045000000000000005"
   ]
  },
  {
   "cell_type": "markdown",
   "id": "c7ec30a1",
   "metadata": {},
   "source": [
    "### Aufbereitung der Daten (nur ein Wert pro Tag)\n",
    "\n",
    "Code auskommentiert, da die CSV-Datei nicht jedes Mal neu erstellt werden muss.\n",
    "\n",
    "In folgendem Code wird folgendes gemacht:\n",
    "\n",
    "Ziel: eine CSV-Datei mit dem richtigen Format für die Anwendung von pyextremes erstellen<br>\n",
    "Step 1: Aufbereitete Daten in das Dataframe \"ds_sf\" importieren (nur Spalten 'date' und 'XRay_class_nr1')<br>\n",
    "Step 2: Spalte 'date' (Datum) als Index setzen<br>\n",
    "\n",
    "Zwischen-Info: Da das Dataframe dt_temp aktuell nicht für jeden Tag Werte hat und für manche Tage mehrere Werte, muss das Dataframe umgewandelt werden, sodass für jeden Tag ein Wert und pro Tag nur ein Wert existiert.<br>\n",
    "-> Warum darf es nicht mehrere Werte pro Tag haben?? -> deshalb neue Aufbereitung\n",
    "\n",
    "\n",
    "Step 3: Erstelle ein neues Dataframe mit einem Datums-Index von Anfang bis Ende des Original-Dataframes<br>\n",
    "Step 4: Füge die Spalte \"Sunspots\" hinzu und fülle sie mit 0 (-> alle Tage ohne Wert erhalten neu 0 als Wert)<br>\n",
    "Step 5: Schleife durch die Daten im Original-Dataframe und fülle das neue Dataframe jeweils mit dem höchstem Wert pro Tag<br>\n",
    "Step 6: Speichere das neue Dataframe als \"df_extreme.csv ab\"<br>"
   ]
  },
  {
   "cell_type": "code",
   "execution_count": null,
   "id": "fad87f6e",
   "metadata": {},
   "outputs": [],
   "source": [
    "# Ziel: eine CSV-Datei mit dem richtigen Format für die Anwendung von pyextremes erstellen\n",
    "# tutorial: https://georgebv.github.io/pyextremes/user-guide/3-block-maxima/\n",
    "\n",
    "# Importe\n",
    "import pandas as pd\n",
    "\n",
    "# Aufbereitete Daten in das Dataframe \"ds_sf\" importieren (nur Spalten 'date' und 'XRay_class_nr1')\n",
    "df_temp = pd.read_csv('new_data_solar_flare/solar_flare_prepared.csv', sep=';' ,usecols=['date', 'XRay_class_nr1'])\n",
    "\n",
    "# Spalte 'date' (Datum) als Index setzen\n",
    "df_temp.set_index('date', inplace=True)\n",
    "\n",
    "# Da das Dataframe dt_temp aktuell nicht für jeden Tag Werte hat und für manche Tage mehrere Werte,\n",
    "# muss das Dataframe umgewandelt werden, sodass für jeden Tag ein Wert und pro Tag nur ein Wert existiert.\n",
    "\n",
    "# Erstelle ein neues Dataframe mit einem Datums-Index von Anfang bis Ende des Original-Dataframes\n",
    "date_range = pd.date_range(start=df_temp.index.min(), end=df_temp.index.max(), freq='D')\n",
    "df_new = pd.DataFrame(index=date_range)\n",
    "\n",
    "# Füge die Spalte \"Sunspots\" hinzu und fülle sie mit 0 (-> alle Tage ohne Wert erhalten neu 0 als Wert)\n",
    "df_new['XRay_class_nr1'] = 0\n",
    "\n",
    "# Schleife durch die Daten im Original-Dataframe und fülle das neue Dataframe entsprechend\n",
    "for index, row in df_temp.iterrows():\n",
    "    # Wenn ein Eintrag für diesen Tag im Original-Dataframe existiert, füge den höchsten Wert hinzu\n",
    "    if index in df_new.index:\n",
    "        max_sf = df_temp.loc[index]['XRay_class_nr1'].max()\n",
    "        df_new.at[index, 'XRay_class_nr1'] = max_sf\n",
    "\n",
    "# Speichere das neue Dataframe als \"df_extreme.csv ab\"\n",
    "df_new.to_csv('new_data_solar_flare/df_extreme.csv')"
   ]
  },
  {
   "cell_type": "code",
   "execution_count": null,
   "id": "a9635e8c",
   "metadata": {},
   "outputs": [],
   "source": [
    "import pandas as pd\n",
    "\n",
    "df = pd.read_csv('new_data_solar_flare/df_extreme.csv', sep=',', index_col=0)\n",
    "\n",
    "df.describe()"
   ]
  },
  {
   "cell_type": "markdown",
   "id": "07d2f564",
   "metadata": {},
   "source": [
    "### Aufbereitung für R"
   ]
  },
  {
   "cell_type": "code",
   "execution_count": 1,
   "id": "c0fac0a3",
   "metadata": {},
   "outputs": [],
   "source": [
    "#Speichern inkl. 0-Werte und mit einem Wert pro Tag (distinct)\n",
    "\n",
    "import pandas as pd\n",
    "\n",
    "df_R = pd.read_csv('new_data_solar_flare/df_extreme.csv', sep=',',usecols=['XRay_class_nr1'])\n",
    "\n",
    "# in Datei df_extreme_neu.csv speichern\n",
    "df_R.to_csv('new_data_solar_flare/R_df_solarflare_distinct.csv', index=False, header=False)"
   ]
  },
  {
   "cell_type": "code",
   "execution_count": 12,
   "id": "f58a01b8",
   "metadata": {},
   "outputs": [],
   "source": [
    "#Speichern inkl. 0-Werte\n",
    "import pandas as pd\n",
    "\n",
    "df_R = pd.read_csv('new_data_solar_flare/df_extreme_neu.csv', sep=',',usecols=['XRay_class_nr1'])\n",
    "\n",
    "# in Datei df_extreme_neu.csv speichern\n",
    "df_R.to_csv('new_data_solar_flare/R_df_solarflare_new.csv', index=False, header=False)"
   ]
  },
  {
   "cell_type": "code",
   "execution_count": 13,
   "id": "0b48b1fe",
   "metadata": {},
   "outputs": [],
   "source": [
    "#Speichern ohne 0-Werte\n",
    "import pandas as pd\n",
    "\n",
    "df_R_wtout_zero = pd.read_csv('new_data_solar_flare/df_extreme_neu.csv', sep=',',usecols=['XRay_class_nr1'])\n",
    "\n",
    "df_R_wtout_zero = df_R_wtout_zero[df_R_wtout_zero['XRay_class_nr1'] > 0]\n",
    "\n",
    "# in Datei df_extreme_neu.csv speichern\n",
    "df_R_wtout_zero.to_csv('new_data_solar_flare/R_df_solarflare_wtout_zero.csv', index=False, header=False)"
   ]
  },
  {
   "cell_type": "markdown",
   "id": "c30ffd62",
   "metadata": {},
   "source": [
    "### Aufbereitung der Daten (1 bis n Werte pro Tag)\n",
    "\n",
    "Code auskommentiert, da die CSV-Datei nicht jedes Mal neu erstellt werden muss.\n",
    "\n",
    "Ausgangslage:\n",
    "Da das aufbereitete CSV \"solar_flare_prepared.csv\" aktuell nicht für jeden Tag Werte hat, müssen die fehlenden Tage noch ergänzt werden.\n",
    "\n",
    "Das CSV \"df_extreme_test.csv\" ist ein Dataframe, welches die gleichen Daten (plural von Datum) hat wie die aufbereiteten Daten,\n",
    "nur dass die fehlenden Daten bereits eingefügt wurden. Allerdings fehlen da noch die Werte der Spale \"XRay_class_nr1\". Deshalb werden die beiden Dataframes hier zusammengemerged.<br>\n",
    "Achtung: Den Code für die Erstellung von \"df_extreme_test.csv\" habe ich nicht mehr - deshalb auf keinen Fall löschen!!!\n",
    "\n",
    "Ziel: eine CSV-Datei mit dem richtigen Format für die Anwendung von pyextremes erstellen<br>\n",
    "\n",
    "Step 1: vorbereitetes CSV \"df_extreme_test.csv\" in Dataframe \"df_val\" importieren<br>\n",
    "Step 2: Aufbereitete Daten in das Dataframe \"df_val\" importieren (nur Spalten 'date' und 'XRay_class_nr1')<br>\n",
    "Step 3: Die beiden Dataframes mergen<br>\n",
    "Step 4: Alle Reihen entfernen in welchen der Wert in der Spalte \"XRay_class_nr1\" = 0 ist und bereits andere Einträge für diesen Tag existieren. Wenn es keine Einträge an diesem Tag gibt, ist der Wert 0 in Ordnung.<br>\n",
    "Step 5: Speichere das neue Dataframe als \"df_extreme.csv ab\"<br>"
   ]
  },
  {
   "cell_type": "code",
   "execution_count": null,
   "id": "605c8ae7",
   "metadata": {},
   "outputs": [],
   "source": [
    "import numpy as np\n",
    "import pandas as pd\n",
    "\n",
    "df_idx = pd.read_csv('new_data_solar_flare/df_extreme_test.csv', sep=',', usecols=['date'])\n",
    "df_val = pd.read_csv('new_data_solar_flare/solar_flare_prepared.csv', sep=';' ,usecols=['date', 'XRay_class_nr1'])\n",
    "\n",
    "result = pd.concat([df_idx, df_val], axis=0)\n",
    "\n",
    "# Ersetze NAN durch 9\n",
    "result.replace(np. nan,0, inplace=True)\n",
    "\n",
    "\n",
    "result.sort_values('date', inplace=True)\n",
    "\n",
    "# Überprüfung der Häufigkeit von Werten in der Spalte \"eins\"\n",
    "counts = result['date'].value_counts()\n",
    "\n",
    "# Wenn die Spalte \"XRay_class_nr1\" = 0 ist und das Datum nochmals vorkommt, als \"delete\" markieren, sonst als \"keep\"\n",
    "result['test'] = np.where((result['XRay_class_nr1'] == 0) & \n",
    "                          (result['date'].apply(lambda x: True if counts[x] > 1 else False)), 'delete', 'keep')\n",
    "\n",
    "# Nur die Daten behalten, die als \"keep\" markiert sind, behalten\n",
    "# und nur die Spalten \"date\" und \"XRay_class_nr1\" behalten\n",
    "result = result[result['test'] == 'keep'][['date', 'XRay_class_nr1']]\n",
    "\n",
    "result.set_index('date', inplace=True)\n",
    "\n",
    "# in Datei df_extreme_neu.csv speichern\n",
    "result.to_csv('new_data_solar_flare/df_extreme_neu.csv')\n",
    "\n",
    "\n",
    "#result.head(10)\n",
    "#result.drop_duplicates()"
   ]
  }
 ],
 "metadata": {
  "kernelspec": {
   "display_name": "Python 3 (ipykernel)",
   "language": "python",
   "name": "python3"
  },
  "language_info": {
   "codemirror_mode": {
    "name": "ipython",
    "version": 3
   },
   "file_extension": ".py",
   "mimetype": "text/x-python",
   "name": "python",
   "nbconvert_exporter": "python",
   "pygments_lexer": "ipython3",
   "version": "3.9.12"
  }
 },
 "nbformat": 4,
 "nbformat_minor": 5
}
