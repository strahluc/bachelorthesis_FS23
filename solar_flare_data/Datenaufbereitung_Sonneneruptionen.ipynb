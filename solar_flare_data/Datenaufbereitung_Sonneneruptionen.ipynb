{
 "cells": [
  {
   "cell_type": "markdown",
   "id": "366f5104",
   "metadata": {},
   "source": [
    "## Datenaufbereitung der Daten über die Sonneneruptionen\n",
    "Im vorliegenden Notizbuch werden die Daten über die Sonneneruptionen zwischen 1975 und 2016 von NOAA geladen und aufbereitet.<br>\n",
    "\n",
    "Datenquelle:https://www.ngdc.noaa.gov/stp/space-weather/solar-data/solar-features/solar-flares/x-rays/goes/xrs/ <br>\n",
    "Dokumentation der Spalten: https://www.ngdc.noaa.gov/stp/space-weather/solar-data/solar-features/solar-flares/x-rays/goes/xrs/documentation/miscellaneous/software/xraydatareports.pro"
   ]
  },
  {
   "cell_type": "markdown",
   "id": "629af356",
   "metadata": {},
   "source": [
    "## Inhaltsverzeichnis\n",
    "\n",
    "1. [Importe](#1.-Importe)<br>\n",
    "2. [Download der Daten](#2.-Download-der-Daten)<br>\n",
    "3. [Erstellung der Spalte 'date' und Umrechnung der Stärken-Klassen](#3.-Erstellung-der-Spalte-'date'-und-Umrechnung-der-Stärken-Klassen)<br>\n",
    "    3.1 [Erstellung der Spalte 'date' und Umrechnung der Stärken-Klassen](#3.1-Erstellung-der-Spalte-'date'-und-Umrechnung-der-Stärken-Klassen)<br>\n",
    "    3.2 [Reduktion auf einen Wert pro Tag](#3.2-Reduktion-auf-einen-Wert-pro-Tag)<br>\n",
    "    3.3 [Aufbereitung für Analyse und Berechnungen in R](#3.3-Aufbereitung-für-Analyse-und-Berechnungen-in-R)<br>\n",
    "    3.4 [Aufbereitung für Survival Function und Zipf-Plots](#3.4-Aufbereitung-für-Survival-Function-und-Zipf-Plots)<br>\n",
    "    3.4.1 [Erstellung CSV-Datei mit Daten aus Survival Function](#3.4.1-Erstellung-CSV-Datei-mit-Daten-aus-Survival-Function)<br>\n",
    "    3.4.2 [Erstellung CSV-Datei mit aggregierten Daten (1x) für Zipf-Plot](#3.4.2-Erstellung-CSV-Datei-mit-aggregierten-Daten-(1x)-für-Zipf-Plot)<br>\n",
    "    3.4.3 [Erstellung CSV-Datei mit aggregierten Daten (2x) für Zipf-Plot](#3.4.3-Erstellung-CSV-Datei-mit-aggregierten-Daten-(2x)-für-Zipf-Plot)<br>\n",
    "    3.4.4 [Erstellung CSV-Datei mit aggregierten Daten (3x) für Zipf-Plot](#3.4.4-Erstellung-CSV-Datei-mit-aggregierten-Daten-(3x)-für-Zipf-Plot)<br>\n",
    "4. [Beispiele Umrechnung von Klasse zu W/m2](#4.-Beispiele-Umrechnung-von-Klasse-zu-W/m2)"
   ]
  },
  {
   "cell_type": "markdown",
   "id": "d3b6038c",
   "metadata": {},
   "source": [
    "## 1. Importe"
   ]
  },
  {
   "cell_type": "code",
   "execution_count": 1,
   "id": "db451ce7",
   "metadata": {},
   "outputs": [],
   "source": [
    "import numpy as np\n",
    "import pandas as pd\n",
    "import requests"
   ]
  },
  {
   "cell_type": "markdown",
   "id": "33a711f2",
   "metadata": {},
   "source": [
    "## 2. Download der Daten\n",
    "Die Daten werden direkt von der Webseite von NOAA geholt und im Unterordner 'data_solar_flare_raw' pro Jahr untergespeichert. Anschliessend werden die Daten von allen Jahren zusammenfasst und in der CSV-Datei 'solar_flare_new.csv' gespeichert."
   ]
  },
  {
   "cell_type": "code",
   "execution_count": 2,
   "id": "bcc5feb2",
   "metadata": {},
   "outputs": [],
   "source": [
    "df_sf_concat = pd.DataFrame(columns=['Data code', 'Station code', 'Year', 'Month', 'Day', 'Astriks', \n",
    "                         'Start time', 'End time', 'Max time', 'N or S', 'Latitude N/S', \n",
    "                         'E or W', 'Central mer. distance', 'SXI', 'X-ray Class', 'X-ray intensity',\n",
    "                         'Station Name', 'Integrated flux', 'Sunspot region nr', 'Year CMP',\n",
    "                         'Month CMP', 'Day CMP', 'Total region area', 'Total intensity'])\n",
    "url = 'https://www.ngdc.noaa.gov/stp/space-weather/solar-data/solar-features/solar-flares/x-rays/goes/xrs/goes-xrs-report_YEAR.txt'\n",
    "\n",
    "for year in range(1975,2017): #2017\n",
    "    txt = requests.get(url.replace(\"YEAR\", str(year)))\n",
    "    with open('data_files/data_solar_flare_raw/solar_flare_raw_' + str(year) +'.csv', 'w') as f:\n",
    "        f.write(txt.text)\n",
    "        \n",
    "    df_solar_flare = pd.read_csv('data_files/data_solar_flare_raw/solar_flare_raw_' + str(year) +'.csv', header=None, names=[\"text\"])\n",
    "\n",
    "    df_solar_flare['Data code'] = df_solar_flare.text.str[:2]\n",
    "    df_solar_flare['Station code'] = df_solar_flare.text.str[2:5]\n",
    "    df_solar_flare['Year'] = df_solar_flare.text.str[5:7]\n",
    "    df_solar_flare['Year_long'] = year\n",
    "    df_solar_flare['Month'] = df_solar_flare.text.str[7:9]\n",
    "    df_solar_flare['Day'] = df_solar_flare.text.str[9:11]\n",
    "    df_solar_flare['Astriks'] = df_solar_flare.text.str[11:13]\n",
    "    df_solar_flare['Start time'] = df_solar_flare.text.str[13:17]\n",
    "    df_solar_flare['End time'] = df_solar_flare.text.str[18:22]\n",
    "    df_solar_flare['Max time'] = df_solar_flare.text.str[23:27]\n",
    "    df_solar_flare['N or S'] = df_solar_flare.text.str[28:29]\n",
    "    df_solar_flare['Latitude N/S'] = df_solar_flare.text.str[29:31]\n",
    "    df_solar_flare['E or W'] = df_solar_flare.text.str[31:32]\n",
    "    df_solar_flare['Central mer. distance'] = df_solar_flare.text.str[32:34]\n",
    "    df_solar_flare['SXI'] = df_solar_flare.text.str[34:37]\n",
    "    df_solar_flare['X-ray Class'] = df_solar_flare.text.str[59:60]\n",
    "    df_solar_flare['X-ray intensity'] = df_solar_flare.text.str[60:63]\n",
    "    df_solar_flare['Station Name'] = df_solar_flare.text.str[67:71]\n",
    "    df_solar_flare['Integrated flux'] = df_solar_flare.text.str[72:80]\n",
    "    df_solar_flare['Sunspot region nr'] = df_solar_flare.text.str[80:85]\n",
    "    df_solar_flare['Year CMP'] = df_solar_flare.text.str[86:88]\n",
    "    df_solar_flare['Month CMP'] = df_solar_flare.text.str[88:90]\n",
    "    df_solar_flare['Day CMP'] = df_solar_flare.text.str[90:94]\n",
    "    df_solar_flare['Total region area'] = df_solar_flare.text.str[95:102]\n",
    "    df_solar_flare['Total intensity'] = df_solar_flare.text.str[103:110]\n",
    "    # drop the first column with the raw string\n",
    "    df_solar_flare.drop(columns=['text'], inplace=True)\n",
    "\n",
    "    df_sf_concat = pd.concat([df_sf_concat, df_solar_flare], axis=0)\n",
    "    \n",
    "df_sf_concat.to_csv('data_files/solar_flare_new.csv', sep=';', index=False)"
   ]
  },
  {
   "cell_type": "markdown",
   "id": "e1babb4b",
   "metadata": {},
   "source": [
    "## 3. Aufbereitung der Daten"
   ]
  },
  {
   "cell_type": "markdown",
   "id": "b6db15a9",
   "metadata": {},
   "source": [
    "### 3.1 Erstellung der Spalte 'date' und Umrechnung der Stärken-Klassen\n",
    "Aus allen Informationen werden nur die Intensität und das jeweilige Datum der Sonneneruption benötigt. Um das Datum zu erhalten werden die Spalten 'Year_long', 'Month' und 'Day' zu einer Datums-Spalte zusammengefasst. Damit aus der Klassifizierung der Sonneneruptionen nummerische Werte entstehen, werden sie in W/m2 umgerechnet. Beispiele für die Umrechnung sind unter [4. Beispiele Umrechnung von Klasse zu W/m2](#4.-Beispiele-Umrechnung-von-Klasse-zu-W/m2) ersichtlich."
   ]
  },
  {
   "cell_type": "code",
   "execution_count": 3,
   "id": "3d9d297a",
   "metadata": {},
   "outputs": [],
   "source": [
    "# Daten aufbereiten, damit sie für die Berechnungen benutzt werden können\n",
    "df_sf = pd.read_csv('data_files/solar_flare_new.csv', sep=';', low_memory=False,\n",
    "                    usecols=['Year_long', 'Month', 'Day', 'X-ray Class', 'X-ray intensity'])\n",
    "\n",
    "date = pd.to_datetime(dict(year=df_sf.Year_long, month=df_sf.Month, day=df_sf.Day))\n",
    "df_sf.insert(0, \"date\", date, True)\n",
    "df_sf.drop(columns=['Year_long', 'Month', 'Day'], inplace=True)\n",
    "\n",
    "df_sf['X-ray intensity'].str.strip()\n",
    "df_sf['X-ray intensity'] = df_sf['X-ray intensity'].apply(pd.to_numeric, errors='ignore')\n",
    "df_sf = df_sf.dropna()\n",
    "df_sf['X-ray intensity'] = np.where(df_sf['X-ray intensity'].astype(str).str.isnumeric(), df_sf['X-ray intensity'], 0)\n",
    "\n",
    "df_sf['X-ray intensity'] = df_sf['X-ray intensity'] / 10\n",
    "\n",
    "df_sf['XRay_class_nr1'] = np.where(df_sf['X-ray Class']== 'A', df_sf['X-ray intensity'] * 10 ** -8, \n",
    "                                 np.where(df_sf['X-ray Class']== 'B', df_sf['X-ray intensity'] * 10 ** -7, \n",
    "                                     np.where(df_sf['X-ray Class']== 'C', df_sf['X-ray intensity'] * 10 ** -6, \n",
    "                                         np.where(df_sf['X-ray Class']== 'M', df_sf['X-ray intensity'] * 10 ** -5, \n",
    "                                                 np.where(df_sf['X-ray Class']== 'X', df_sf['X-ray intensity'] * 10 ** -4, 0\n",
    ")))))\n",
    "\n",
    "# Entferne alle Datensätze mit \"X-ray intensity\" = 0\n",
    "df_sf = df_sf[(df_sf.XRay_class_nr1 > 0)]\n",
    "\n",
    "df_test = df_sf\n",
    "\n",
    "df_sf.set_index('date', inplace=True)\n",
    "\n",
    "df_sf.to_csv('data_files/solar_flare_prepared.csv', sep=';')"
   ]
  },
  {
   "cell_type": "markdown",
   "id": "794f8f7a",
   "metadata": {},
   "source": [
    "### 3.2 Reduktion auf einen Wert pro Tag\n",
    "Ziel: eine CSV-Datei mit dem richtigen Format für die Anwendung von pyextremes erstellen<br>\n",
    "Step 1: Aufbereitete Daten in das Dataframe \"ds_sf\" importieren (nur Spalten 'date' und 'XRay_class_nr1')<br>\n",
    "Step 2: Spalte 'date' (Datum) als Index setzen<br>\n",
    "\n",
    "Zwischen-Info: Da das Dataframe dt_temp aktuell nicht für jeden Tag Werte hat und für manche Tage mehrere Werte, muss das Dataframe umgewandelt werden, sodass für jeden Tag exakt ein Wert existiert.<br>\n",
    "\n",
    "Step 3: Erstelle ein neues Dataframe mit einem Datums-Index von Anfang bis Ende des Original-Dataframes<br>\n",
    "Step 4: Füge die Spalte \"Sunspots\" hinzu und fülle sie mit 0 (-> alle Tage ohne Wert erhalten neu 0 als Wert)<br>\n",
    "Step 5: Schleife durch die Daten im Original-Dataframe und fülle das neue Dataframe jeweils mit dem höchstem Wert pro Tag<br>\n",
    "Step 6: Speichere das neue Dataframe als \"df_extreme.csv ab\"<br>"
   ]
  },
  {
   "cell_type": "code",
   "execution_count": 4,
   "id": "f6371504",
   "metadata": {},
   "outputs": [],
   "source": [
    "# Aufbereitete Daten in das Dataframe \"ds_sf\" importieren (nur Spalten 'date' und 'XRay_class_nr1')\n",
    "df_temp = pd.read_csv('data_files/solar_flare_prepared.csv', sep=';' ,usecols=['date', 'XRay_class_nr1'])\n",
    "\n",
    "# Spalte 'date' (Datum) als Index setzen\n",
    "df_temp.set_index('date', inplace=True)\n",
    "\n",
    "# Da das Dataframe dt_temp aktuell nicht für jeden Tag Werte hat und für manche Tage mehrere Werte,\n",
    "# muss das Dataframe umgewandelt werden, sodass für jeden Tag ein Wert und pro Tag nur ein Wert existiert.\n",
    "\n",
    "# Erstelle ein neues Dataframe mit einem Datums-Index von Anfang bis Ende des Original-Dataframes\n",
    "date_range = pd.date_range(start=df_temp.index.min(), end=df_temp.index.max(), freq='D')\n",
    "df_new = pd.DataFrame(index=date_range)\n",
    "\n",
    "# Füge die Spalte \"Sunspots\" hinzu und fülle sie mit 0 (-> alle Tage ohne Wert erhalten neu 0 als Wert)\n",
    "df_new['XRay_class_nr1'] = 0\n",
    "\n",
    "# Schleife durch die Daten im Original-Dataframe und fülle das neue Dataframe entsprechend\n",
    "for index, row in df_temp.iterrows():\n",
    "    # Wenn ein Eintrag für diesen Tag im Original-Dataframe existiert, füge den höchsten Wert hinzu\n",
    "    if index in df_new.index:\n",
    "        max_sf = df_temp.loc[index]['XRay_class_nr1'].max()\n",
    "        df_new.at[index, 'XRay_class_nr1'] = max_sf\n",
    "\n",
    "# Speichere das neue Dataframe als \"df_extreme.csv ab\"\n",
    "df_new.to_csv('data_files/df_extreme.csv')"
   ]
  },
  {
   "cell_type": "markdown",
   "id": "99aac0ab",
   "metadata": {},
   "source": [
    "### 3.3 Aufbereitung für Analyse und Berechnungen in R\n",
    "Für die Datenanalyse und die Berechnungen in R wird eine CSV-Datei nur mit der Spalte 'XRay_class_nr1' (umgerechnete Intensitäten) und ohne Header erstellt."
   ]
  },
  {
   "cell_type": "code",
   "execution_count": 5,
   "id": "a9cd7239",
   "metadata": {},
   "outputs": [],
   "source": [
    "# Aufbereitetes Dataframe importieren\n",
    "df_R = pd.read_csv('data_files/df_extreme.csv', sep=',',usecols=['XRay_class_nr1'])\n",
    "\n",
    "# in Datei df_extreme_neu.csv speichern\n",
    "df_R.to_csv('data_files/R_df_solarflare.csv', index=False, header=False)"
   ]
  },
  {
   "cell_type": "markdown",
   "id": "e08f3f29",
   "metadata": {},
   "source": [
    "### 3.4 Aufbereitung für Survival Function und Zipf-Plots"
   ]
  },
  {
   "cell_type": "markdown",
   "id": "65a2ebb1",
   "metadata": {},
   "source": [
    "#### 3.4.1 Erstellung CSV-Datei mit Daten aus Survival Function"
   ]
  },
  {
   "cell_type": "code",
   "execution_count": 6,
   "id": "fb84c152",
   "metadata": {},
   "outputs": [],
   "source": [
    "# Aufbereitetes Dataframe importieren\n",
    "df_sf = pd.read_csv('data_files/df_extreme.csv', sep=',')\n",
    "\n",
    "# Erstelle neues DF für die Survival Function\n",
    "df_survival = df_sf[['XRay_class_nr1']].copy()\n",
    "\n",
    "# Sortiere das DataFrame nach den Anzahl Sonnenflecken und resete den Index\n",
    "df_survival.sort_values(\"XRay_class_nr1\", inplace=True)\n",
    "df_survival.reset_index(drop=True, inplace=True)\n",
    "\n",
    "# Die Funktion gibt die Anzahl Werte der Spalte zurück, welche grösser oder gleich sind \n",
    "# wie der Wert der aktuellen Zeile\n",
    "def calc(x):\n",
    "    counter = 0\n",
    "    for i in df_survival.XRay_class_nr1:\n",
    "        if x >= i:\n",
    "            counter = counter +1\n",
    "    return counter-1\n",
    "\n",
    "# Erstelle die neue Spalte \"Count\" mit der Anzahl grösserer oder gleicher Werte\n",
    "df_survival['count'] = df_survival['XRay_class_nr1'].apply(calc)\n",
    "\n",
    "# Speichere das DF als CSV, da die Berechnung der Spalte \"Count\" sehr lange dauert\n",
    "df_survival.to_csv('data_files/survival_sf.csv', sep=';', index=False)"
   ]
  },
  {
   "cell_type": "markdown",
   "id": "d362b01f",
   "metadata": {},
   "source": [
    "#### 3.4.2 Erstellung CSV-Datei mit aggregierten Daten (1x) für Zipf-Plot"
   ]
  },
  {
   "cell_type": "code",
   "execution_count": 7,
   "id": "f105bc72",
   "metadata": {},
   "outputs": [
    {
     "name": "stdout",
     "output_type": "stream",
     "text": [
      "loop_max:  5802\n",
      "min:  0\n",
      "max:  11604\n"
     ]
    }
   ],
   "source": [
    "df_survival = pd.read_csv('data_files/survival_sf.csv', sep=';')\n",
    "\n",
    "df_temp = df_survival[(df_survival['XRay_class_nr1'] > 0)]['XRay_class_nr1']\n",
    "df_zipf_1 = pd.DataFrame(columns=['XRay_class_nr1'])\n",
    "\n",
    "min = 0\n",
    "max = df_temp.count() -1\n",
    "\n",
    "loop_max = int(max/2)\n",
    "\n",
    "print('loop_max: ',loop_max)\n",
    "print('min: ',min)    \n",
    "print('max: ',max)    \n",
    "\n",
    "for x in range(0, loop_max):\n",
    "    df_zipf_1.loc[x, 'XRay_class_nr1'] = df_temp.iloc[max-x] + df_temp.iloc[min+x]\n",
    "    \n",
    "df_zipf_1.to_csv('data_files/R_df_solarflare_zipf_1.csv', index=False, header=False)"
   ]
  },
  {
   "cell_type": "markdown",
   "id": "df9bab8b",
   "metadata": {},
   "source": [
    "#### 3.4.3 Erstellung CSV-Datei mit aggregierten Daten (2x) für Zipf-Plot"
   ]
  },
  {
   "cell_type": "code",
   "execution_count": 8,
   "id": "031c1c5b",
   "metadata": {},
   "outputs": [
    {
     "name": "stdout",
     "output_type": "stream",
     "text": [
      "loop_max:  2900\n",
      "min:  0\n",
      "max:  5801\n"
     ]
    }
   ],
   "source": [
    "df_zipf_2 = pd.DataFrame(columns=['XRay_class_nr1'])\n",
    "\n",
    "min = 0\n",
    "max = df_zipf_1['XRay_class_nr1'].count() -1\n",
    "\n",
    "loop_max = int(max/2)\n",
    "\n",
    "print('loop_max: ',loop_max)\n",
    "print('min: ',min)    \n",
    "print('max: ',max)    \n",
    "\n",
    "for x in range(0, loop_max):\n",
    "    df_zipf_2.loc[x, 'XRay_class_nr1'] = df_zipf_1.iloc[max-x]['XRay_class_nr1'] + df_zipf_1.iloc[min+x]['XRay_class_nr1']\n",
    "    \n",
    "df_zipf_2.to_csv('data_files/R_df_solarflare_zipf_2.csv', index=False, header=False)"
   ]
  },
  {
   "cell_type": "markdown",
   "id": "9917cae9",
   "metadata": {},
   "source": [
    "#### 3.4.4 Erstellung CSV-Datei mit aggregierten Daten (3x) für Zipf-Plot"
   ]
  },
  {
   "cell_type": "code",
   "execution_count": 9,
   "id": "3c89fc22",
   "metadata": {},
   "outputs": [
    {
     "name": "stdout",
     "output_type": "stream",
     "text": [
      "loop_max:  1449\n",
      "min:  0\n",
      "max:  2899\n"
     ]
    }
   ],
   "source": [
    "df_zipf_3 = pd.DataFrame(columns=['XRay_class_nr1'])\n",
    "\n",
    "min = 0\n",
    "max = df_zipf_2['XRay_class_nr1'].count() -1\n",
    "\n",
    "loop_max = int(max/2)\n",
    "\n",
    "print('loop_max: ',loop_max)\n",
    "print('min: ',min)    \n",
    "print('max: ',max)    \n",
    "\n",
    "for x in range(0, loop_max):\n",
    "    df_zipf_3.loc[x, 'XRay_class_nr1'] = df_zipf_2.iloc[max-x]['XRay_class_nr1'] + df_zipf_2.iloc[min+x]['XRay_class_nr1']\n",
    "    \n",
    "df_zipf_3.to_csv('data_files/R_df_solarflare_zipf_3.csv', index=False, header=False)"
   ]
  },
  {
   "cell_type": "markdown",
   "id": "984d12de",
   "metadata": {},
   "source": [
    "## 4. Beispiele Umrechnung von Klasse zu W/m2\n",
    "Nachfolgend sind einige Beispiel-Rechnungen aufgeführt, wie die Klassifizierung der Sonneneruptionen in nummerische Werte umgewandelt wird."
   ]
  },
  {
   "cell_type": "code",
   "execution_count": 10,
   "id": "365b0631",
   "metadata": {},
   "outputs": [
    {
     "name": "stdout",
     "output_type": "stream",
     "text": [
      "A1: 1e-08\n",
      "B1: 1e-07\n",
      "C1: 1e-06\n",
      "M1: 1e-05\n",
      "X1: 0.0001\n",
      "A2.2: 2.2000000000000002e-08\n",
      "B2.2: 2.2e-07\n",
      "C2.2: 2.2e-06\n",
      "M2.2: 2.2000000000000003e-05\n",
      "X2.2: 0.00022000000000000003\n",
      "A9.9: 9.9e-08\n",
      "B9.9: 9.9e-07\n",
      "C9.9: 9.9e-06\n",
      "M9.9: 9.900000000000001e-05\n",
      "X9.9: 0.00099\n",
      "X45: 0.0045000000000000005\n"
     ]
    }
   ],
   "source": [
    "a1 = 10 ** -8\n",
    "print('A1:', a1)\n",
    "\n",
    "b1 = 10 ** -7\n",
    "print('B1:', b1)\n",
    "\n",
    "c1 = 10 ** -6\n",
    "print('C1:', c1)\n",
    "\n",
    "m1 = 10 ** -5\n",
    "print('M1:', m1)\n",
    "\n",
    "x1 = 10 ** -4\n",
    "print('X1:', x1)\n",
    "\n",
    "a22 = 2.2 * 10 ** -8\n",
    "print('A2.2:', a22)\n",
    "\n",
    "b22 = 2.2 * 10 ** -7\n",
    "print('B2.2:', b22)\n",
    "\n",
    "c22 = 2.2 * 10 ** -6\n",
    "print('C2.2:', c22)\n",
    "\n",
    "m22 = 2.2 * 10 ** -5\n",
    "print('M2.2:', m22)\n",
    "\n",
    "x22 = 2.2 * 10 ** -4\n",
    "print('X2.2:', x22)\n",
    "\n",
    "a99 = 9.9 * 10 ** -8\n",
    "print('A9.9:', a99)\n",
    "\n",
    "b99 = 9.9 * 10 ** -7\n",
    "print('B9.9:', b99)\n",
    "\n",
    "c99 = 9.9 * 10 ** -6\n",
    "print('C9.9:', c99)\n",
    "\n",
    "m99 = 9.9 * 10 ** -5\n",
    "print('M9.9:', m99)\n",
    "\n",
    "x99 = 9.9 * 10 ** -4\n",
    "print('X9.9:', x99)\n",
    "\n",
    "# carrington like event\n",
    "x450 = 45 * 10 ** -4\n",
    "print('X45:', x450)"
   ]
  }
 ],
 "metadata": {
  "kernelspec": {
   "display_name": "Python 3 (ipykernel)",
   "language": "python",
   "name": "python3"
  },
  "language_info": {
   "codemirror_mode": {
    "name": "ipython",
    "version": 3
   },
   "file_extension": ".py",
   "mimetype": "text/x-python",
   "name": "python",
   "nbconvert_exporter": "python",
   "pygments_lexer": "ipython3",
   "version": "3.9.12"
  }
 },
 "nbformat": 4,
 "nbformat_minor": 5
}
